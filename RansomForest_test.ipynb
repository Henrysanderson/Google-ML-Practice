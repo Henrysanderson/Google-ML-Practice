{
 "cells": [
  {
   "cell_type": "markdown",
   "metadata": {},
   "source": [
    "# **Regression Model using RandomForest Regressor**"
   ]
  },
  {
   "cell_type": "code",
   "execution_count": 3,
   "metadata": {},
   "outputs": [],
   "source": [
    "#Import the libraries for data manipulation and visualization\n",
    "import pandas as pd\n",
    "import numpy as np\n",
    "import matplotlib.pyplot as plt"
   ]
  },
  {
   "cell_type": "code",
   "execution_count": 6,
   "metadata": {},
   "outputs": [],
   "source": [
    "# Import the dataset\n",
    "df = pd.read_csv('chicago_taxi_train.csv')"
   ]
  },
  {
   "cell_type": "code",
   "execution_count": 7,
   "metadata": {},
   "outputs": [
    {
     "data": {
      "application/vnd.microsoft.datawrangler.viewer.v0+json": {
       "columns": [
        {
         "name": "index",
         "rawType": "int64",
         "type": "integer"
        },
        {
         "name": "TRIP_START_TIMESTAMP",
         "rawType": "object",
         "type": "string"
        },
        {
         "name": "TRIP_END_TIMESTAMP",
         "rawType": "object",
         "type": "string"
        },
        {
         "name": "TRIP_START_HOUR",
         "rawType": "float64",
         "type": "float"
        },
        {
         "name": "TRIP_SECONDS",
         "rawType": "int64",
         "type": "integer"
        },
        {
         "name": "TRIP_MILES",
         "rawType": "float64",
         "type": "float"
        },
        {
         "name": "TRIP_SPEED",
         "rawType": "float64",
         "type": "float"
        },
        {
         "name": "PICKUP_CENSUS_TRACT",
         "rawType": "float64",
         "type": "float"
        },
        {
         "name": "DROPOFF_CENSUS_TRACT",
         "rawType": "float64",
         "type": "float"
        },
        {
         "name": "PICKUP_COMMUNITY_AREA",
         "rawType": "float64",
         "type": "float"
        },
        {
         "name": "DROPOFF_COMMUNITY_AREA",
         "rawType": "float64",
         "type": "float"
        },
        {
         "name": "FARE",
         "rawType": "float64",
         "type": "float"
        },
        {
         "name": "TIPS",
         "rawType": "float64",
         "type": "float"
        },
        {
         "name": "TIP_RATE",
         "rawType": "float64",
         "type": "float"
        },
        {
         "name": "TOLLS",
         "rawType": "float64",
         "type": "float"
        },
        {
         "name": "EXTRAS",
         "rawType": "float64",
         "type": "float"
        },
        {
         "name": "TRIP_TOTAL",
         "rawType": "float64",
         "type": "float"
        },
        {
         "name": "PAYMENT_TYPE",
         "rawType": "object",
         "type": "string"
        },
        {
         "name": "COMPANY",
         "rawType": "object",
         "type": "string"
        }
       ],
       "conversionMethod": "pd.DataFrame",
       "ref": "e01c7440-84ac-4058-bffd-35c9a59e833e",
       "rows": [
        [
         "0",
         "05/17/2022 7:15:00 AM",
         "05/17/2022 7:45:00 AM",
         "7.25",
         "2341",
         "2.57",
         "4.0",
         null,
         null,
         null,
         "17.0",
         "31.99",
         "2.0",
         "6.3",
         "0.0",
         "0.0",
         "33.99",
         "Mobile",
         "Flash Cab"
        ],
        [
         "1",
         "05/17/2022 5:15:00 PM",
         "05/17/2022 5:30:00 PM",
         "17.25",
         "1074",
         "1.18",
         "4.0",
         null,
         "17031081202.0",
         null,
         "8.0",
         "9.75",
         "3.0",
         "27.9",
         "0.0",
         "1.0",
         "14.25",
         "Credit Card",
         "Flash Cab"
        ],
        [
         "2",
         "05/17/2022 5:15:00 PM",
         "05/17/2022 5:30:00 PM",
         "17.25",
         "1173",
         "1.29",
         "4.0",
         "17031320100.0",
         "17031081201.0",
         "32.0",
         "8.0",
         "10.25",
         "0.0",
         "0.0",
         "0.0",
         "0.0",
         "10.25",
         "Cash",
         "Sun Taxi"
        ],
        [
         "3",
         "05/17/2022 6:00:00 PM",
         "05/17/2022 7:00:00 PM",
         "18.0",
         "3360",
         "3.7",
         "4.0",
         "17031320100.0",
         "17031241400.0",
         "32.0",
         "24.0",
         "23.75",
         "0.0",
         "0.0",
         "0.0",
         "1.0",
         "24.75",
         "Cash",
         "Choice Taxi Association"
        ],
        [
         "4",
         "05/17/2022 5:00:00 PM",
         "05/17/2022 5:30:00 PM",
         "17.0",
         "1044",
         "1.15",
         "4.0",
         "17031320100.0",
         "17031081800.0",
         "32.0",
         "8.0",
         "10.0",
         "0.0",
         "0.0",
         "0.0",
         "0.0",
         "10.0",
         "Cash",
         "Flash Cab"
        ]
       ],
       "shape": {
        "columns": 18,
        "rows": 5
       }
      },
      "text/html": [
       "<div>\n",
       "<style scoped>\n",
       "    .dataframe tbody tr th:only-of-type {\n",
       "        vertical-align: middle;\n",
       "    }\n",
       "\n",
       "    .dataframe tbody tr th {\n",
       "        vertical-align: top;\n",
       "    }\n",
       "\n",
       "    .dataframe thead th {\n",
       "        text-align: right;\n",
       "    }\n",
       "</style>\n",
       "<table border=\"1\" class=\"dataframe\">\n",
       "  <thead>\n",
       "    <tr style=\"text-align: right;\">\n",
       "      <th></th>\n",
       "      <th>TRIP_START_TIMESTAMP</th>\n",
       "      <th>TRIP_END_TIMESTAMP</th>\n",
       "      <th>TRIP_START_HOUR</th>\n",
       "      <th>TRIP_SECONDS</th>\n",
       "      <th>TRIP_MILES</th>\n",
       "      <th>TRIP_SPEED</th>\n",
       "      <th>PICKUP_CENSUS_TRACT</th>\n",
       "      <th>DROPOFF_CENSUS_TRACT</th>\n",
       "      <th>PICKUP_COMMUNITY_AREA</th>\n",
       "      <th>DROPOFF_COMMUNITY_AREA</th>\n",
       "      <th>FARE</th>\n",
       "      <th>TIPS</th>\n",
       "      <th>TIP_RATE</th>\n",
       "      <th>TOLLS</th>\n",
       "      <th>EXTRAS</th>\n",
       "      <th>TRIP_TOTAL</th>\n",
       "      <th>PAYMENT_TYPE</th>\n",
       "      <th>COMPANY</th>\n",
       "    </tr>\n",
       "  </thead>\n",
       "  <tbody>\n",
       "    <tr>\n",
       "      <th>0</th>\n",
       "      <td>05/17/2022 7:15:00 AM</td>\n",
       "      <td>05/17/2022 7:45:00 AM</td>\n",
       "      <td>7.25</td>\n",
       "      <td>2341</td>\n",
       "      <td>2.57</td>\n",
       "      <td>4.0</td>\n",
       "      <td>NaN</td>\n",
       "      <td>NaN</td>\n",
       "      <td>NaN</td>\n",
       "      <td>17.0</td>\n",
       "      <td>31.99</td>\n",
       "      <td>2.0</td>\n",
       "      <td>6.3</td>\n",
       "      <td>0.0</td>\n",
       "      <td>0.0</td>\n",
       "      <td>33.99</td>\n",
       "      <td>Mobile</td>\n",
       "      <td>Flash Cab</td>\n",
       "    </tr>\n",
       "    <tr>\n",
       "      <th>1</th>\n",
       "      <td>05/17/2022 5:15:00 PM</td>\n",
       "      <td>05/17/2022 5:30:00 PM</td>\n",
       "      <td>17.25</td>\n",
       "      <td>1074</td>\n",
       "      <td>1.18</td>\n",
       "      <td>4.0</td>\n",
       "      <td>NaN</td>\n",
       "      <td>1.703108e+10</td>\n",
       "      <td>NaN</td>\n",
       "      <td>8.0</td>\n",
       "      <td>9.75</td>\n",
       "      <td>3.0</td>\n",
       "      <td>27.9</td>\n",
       "      <td>0.0</td>\n",
       "      <td>1.0</td>\n",
       "      <td>14.25</td>\n",
       "      <td>Credit Card</td>\n",
       "      <td>Flash Cab</td>\n",
       "    </tr>\n",
       "    <tr>\n",
       "      <th>2</th>\n",
       "      <td>05/17/2022 5:15:00 PM</td>\n",
       "      <td>05/17/2022 5:30:00 PM</td>\n",
       "      <td>17.25</td>\n",
       "      <td>1173</td>\n",
       "      <td>1.29</td>\n",
       "      <td>4.0</td>\n",
       "      <td>1.703132e+10</td>\n",
       "      <td>1.703108e+10</td>\n",
       "      <td>32.0</td>\n",
       "      <td>8.0</td>\n",
       "      <td>10.25</td>\n",
       "      <td>0.0</td>\n",
       "      <td>0.0</td>\n",
       "      <td>0.0</td>\n",
       "      <td>0.0</td>\n",
       "      <td>10.25</td>\n",
       "      <td>Cash</td>\n",
       "      <td>Sun Taxi</td>\n",
       "    </tr>\n",
       "    <tr>\n",
       "      <th>3</th>\n",
       "      <td>05/17/2022 6:00:00 PM</td>\n",
       "      <td>05/17/2022 7:00:00 PM</td>\n",
       "      <td>18.00</td>\n",
       "      <td>3360</td>\n",
       "      <td>3.70</td>\n",
       "      <td>4.0</td>\n",
       "      <td>1.703132e+10</td>\n",
       "      <td>1.703124e+10</td>\n",
       "      <td>32.0</td>\n",
       "      <td>24.0</td>\n",
       "      <td>23.75</td>\n",
       "      <td>0.0</td>\n",
       "      <td>0.0</td>\n",
       "      <td>0.0</td>\n",
       "      <td>1.0</td>\n",
       "      <td>24.75</td>\n",
       "      <td>Cash</td>\n",
       "      <td>Choice Taxi Association</td>\n",
       "    </tr>\n",
       "    <tr>\n",
       "      <th>4</th>\n",
       "      <td>05/17/2022 5:00:00 PM</td>\n",
       "      <td>05/17/2022 5:30:00 PM</td>\n",
       "      <td>17.00</td>\n",
       "      <td>1044</td>\n",
       "      <td>1.15</td>\n",
       "      <td>4.0</td>\n",
       "      <td>1.703132e+10</td>\n",
       "      <td>1.703108e+10</td>\n",
       "      <td>32.0</td>\n",
       "      <td>8.0</td>\n",
       "      <td>10.00</td>\n",
       "      <td>0.0</td>\n",
       "      <td>0.0</td>\n",
       "      <td>0.0</td>\n",
       "      <td>0.0</td>\n",
       "      <td>10.00</td>\n",
       "      <td>Cash</td>\n",
       "      <td>Flash Cab</td>\n",
       "    </tr>\n",
       "  </tbody>\n",
       "</table>\n",
       "</div>"
      ],
      "text/plain": [
       "    TRIP_START_TIMESTAMP     TRIP_END_TIMESTAMP  TRIP_START_HOUR  \\\n",
       "0  05/17/2022 7:15:00 AM  05/17/2022 7:45:00 AM             7.25   \n",
       "1  05/17/2022 5:15:00 PM  05/17/2022 5:30:00 PM            17.25   \n",
       "2  05/17/2022 5:15:00 PM  05/17/2022 5:30:00 PM            17.25   \n",
       "3  05/17/2022 6:00:00 PM  05/17/2022 7:00:00 PM            18.00   \n",
       "4  05/17/2022 5:00:00 PM  05/17/2022 5:30:00 PM            17.00   \n",
       "\n",
       "   TRIP_SECONDS  TRIP_MILES  TRIP_SPEED  PICKUP_CENSUS_TRACT  \\\n",
       "0          2341        2.57         4.0                  NaN   \n",
       "1          1074        1.18         4.0                  NaN   \n",
       "2          1173        1.29         4.0         1.703132e+10   \n",
       "3          3360        3.70         4.0         1.703132e+10   \n",
       "4          1044        1.15         4.0         1.703132e+10   \n",
       "\n",
       "   DROPOFF_CENSUS_TRACT  PICKUP_COMMUNITY_AREA  DROPOFF_COMMUNITY_AREA   FARE  \\\n",
       "0                   NaN                    NaN                    17.0  31.99   \n",
       "1          1.703108e+10                    NaN                     8.0   9.75   \n",
       "2          1.703108e+10                   32.0                     8.0  10.25   \n",
       "3          1.703124e+10                   32.0                    24.0  23.75   \n",
       "4          1.703108e+10                   32.0                     8.0  10.00   \n",
       "\n",
       "   TIPS  TIP_RATE  TOLLS  EXTRAS  TRIP_TOTAL PAYMENT_TYPE  \\\n",
       "0   2.0       6.3    0.0     0.0       33.99       Mobile   \n",
       "1   3.0      27.9    0.0     1.0       14.25  Credit Card   \n",
       "2   0.0       0.0    0.0     0.0       10.25         Cash   \n",
       "3   0.0       0.0    0.0     1.0       24.75         Cash   \n",
       "4   0.0       0.0    0.0     0.0       10.00         Cash   \n",
       "\n",
       "                   COMPANY  \n",
       "0                Flash Cab  \n",
       "1                Flash Cab  \n",
       "2                 Sun Taxi  \n",
       "3  Choice Taxi Association  \n",
       "4                Flash Cab  "
      ]
     },
     "execution_count": 7,
     "metadata": {},
     "output_type": "execute_result"
    }
   ],
   "source": [
    "# Check the first few rows of the dataset\n",
    "df.head()\n"
   ]
  },
  {
   "cell_type": "code",
   "execution_count": 9,
   "metadata": {},
   "outputs": [
    {
     "data": {
      "application/vnd.microsoft.datawrangler.viewer.v0+json": {
       "columns": [
        {
         "name": "index",
         "rawType": "int64",
         "type": "integer"
        },
        {
         "name": "TRIP_SECONDS",
         "rawType": "int64",
         "type": "integer"
        },
        {
         "name": "TRIP_MILES",
         "rawType": "float64",
         "type": "float"
        },
        {
         "name": "TRIP_SPEED",
         "rawType": "float64",
         "type": "float"
        },
        {
         "name": "FARE",
         "rawType": "float64",
         "type": "float"
        }
       ],
       "conversionMethod": "pd.DataFrame",
       "ref": "61429f26-53db-4b81-a1ca-cc8da06d3553",
       "rows": [
        [
         "0",
         "2341",
         "2.57",
         "4.0",
         "31.99"
        ],
        [
         "1",
         "1074",
         "1.18",
         "4.0",
         "9.75"
        ],
        [
         "2",
         "1173",
         "1.29",
         "4.0",
         "10.25"
        ],
        [
         "3",
         "3360",
         "3.7",
         "4.0",
         "23.75"
        ],
        [
         "4",
         "1044",
         "1.15",
         "4.0",
         "10.0"
        ]
       ],
       "shape": {
        "columns": 4,
        "rows": 5
       }
      },
      "text/html": [
       "<div>\n",
       "<style scoped>\n",
       "    .dataframe tbody tr th:only-of-type {\n",
       "        vertical-align: middle;\n",
       "    }\n",
       "\n",
       "    .dataframe tbody tr th {\n",
       "        vertical-align: top;\n",
       "    }\n",
       "\n",
       "    .dataframe thead th {\n",
       "        text-align: right;\n",
       "    }\n",
       "</style>\n",
       "<table border=\"1\" class=\"dataframe\">\n",
       "  <thead>\n",
       "    <tr style=\"text-align: right;\">\n",
       "      <th></th>\n",
       "      <th>TRIP_SECONDS</th>\n",
       "      <th>TRIP_MILES</th>\n",
       "      <th>TRIP_SPEED</th>\n",
       "      <th>FARE</th>\n",
       "    </tr>\n",
       "  </thead>\n",
       "  <tbody>\n",
       "    <tr>\n",
       "      <th>0</th>\n",
       "      <td>2341</td>\n",
       "      <td>2.57</td>\n",
       "      <td>4.0</td>\n",
       "      <td>31.99</td>\n",
       "    </tr>\n",
       "    <tr>\n",
       "      <th>1</th>\n",
       "      <td>1074</td>\n",
       "      <td>1.18</td>\n",
       "      <td>4.0</td>\n",
       "      <td>9.75</td>\n",
       "    </tr>\n",
       "    <tr>\n",
       "      <th>2</th>\n",
       "      <td>1173</td>\n",
       "      <td>1.29</td>\n",
       "      <td>4.0</td>\n",
       "      <td>10.25</td>\n",
       "    </tr>\n",
       "    <tr>\n",
       "      <th>3</th>\n",
       "      <td>3360</td>\n",
       "      <td>3.70</td>\n",
       "      <td>4.0</td>\n",
       "      <td>23.75</td>\n",
       "    </tr>\n",
       "    <tr>\n",
       "      <th>4</th>\n",
       "      <td>1044</td>\n",
       "      <td>1.15</td>\n",
       "      <td>4.0</td>\n",
       "      <td>10.00</td>\n",
       "    </tr>\n",
       "  </tbody>\n",
       "</table>\n",
       "</div>"
      ],
      "text/plain": [
       "   TRIP_SECONDS  TRIP_MILES  TRIP_SPEED   FARE\n",
       "0          2341        2.57         4.0  31.99\n",
       "1          1074        1.18         4.0   9.75\n",
       "2          1173        1.29         4.0  10.25\n",
       "3          3360        3.70         4.0  23.75\n",
       "4          1044        1.15         4.0  10.00"
      ]
     },
     "execution_count": 9,
     "metadata": {},
     "output_type": "execute_result"
    }
   ],
   "source": [
    "# Data Cleaning\n",
    "def clean_data(df):\n",
    "    # Drop column: 'TRIP_START_TIMESTAMP'\n",
    "    df = df.drop(columns=['TRIP_START_TIMESTAMP'])\n",
    "    # Drop column: 'TRIP_END_TIMESTAMP'\n",
    "    df = df.drop(columns=['TRIP_END_TIMESTAMP'])\n",
    "    # Drop column: 'TRIP_START_HOUR'\n",
    "    df = df.drop(columns=['TRIP_START_HOUR'])\n",
    "    # Drop column: 'PICKUP_CENSUS_TRACT'\n",
    "    df = df.drop(columns=['PICKUP_CENSUS_TRACT'])\n",
    "    # Drop column: 'DROPOFF_CENSUS_TRACT'\n",
    "    df = df.drop(columns=['DROPOFF_CENSUS_TRACT'])\n",
    "    # Drop column: 'PICKUP_COMMUNITY_AREA'\n",
    "    df = df.drop(columns=['PICKUP_COMMUNITY_AREA'])\n",
    "    # Drop column: 'DROPOFF_COMMUNITY_AREA'\n",
    "    df = df.drop(columns=['DROPOFF_COMMUNITY_AREA'])\n",
    "    # Drop column: 'TIPS'\n",
    "    df = df.drop(columns=['TIPS'])\n",
    "    # Drop column: 'TIP_RATE'\n",
    "    df = df.drop(columns=['TIP_RATE'])\n",
    "    # Drop column: 'TOLLS'\n",
    "    df = df.drop(columns=['TOLLS'])\n",
    "    # Drop column: 'EXTRAS'\n",
    "    df = df.drop(columns=['EXTRAS'])\n",
    "    # Drop column: 'TRIP_TOTAL'\n",
    "    df = df.drop(columns=['TRIP_TOTAL'])\n",
    "    # Drop column: 'COMPANY'\n",
    "    df = df.drop(columns=['COMPANY'])\n",
    "    # Drop column: 'PAYMENT_TYPE'\n",
    "    df = df.drop(columns=['PAYMENT_TYPE'])\n",
    "    return df\n",
    "\n",
    "\n",
    "df_clean = clean_data(df.copy())\n",
    "df_clean.head()"
   ]
  },
  {
   "cell_type": "code",
   "execution_count": 12,
   "metadata": {},
   "outputs": [
    {
     "data": {
      "application/vnd.microsoft.datawrangler.viewer.v0+json": {
       "columns": [
        {
         "name": "index",
         "rawType": "object",
         "type": "string"
        },
        {
         "name": "TRIP_SECONDS",
         "rawType": "float64",
         "type": "float"
        },
        {
         "name": "TRIP_MILES",
         "rawType": "float64",
         "type": "float"
        },
        {
         "name": "TRIP_SPEED",
         "rawType": "float64",
         "type": "float"
        },
        {
         "name": "FARE",
         "rawType": "float64",
         "type": "float"
        }
       ],
       "conversionMethod": "pd.DataFrame",
       "ref": "5560b67c-f982-4f26-b728-96bce5e26e42",
       "rows": [
        [
         "count",
         "31694.0",
         "31694.0",
         "31694.0",
         "31694.0"
        ],
        [
         "mean",
         "1319.796396794346",
         "8.289462674323214",
         "20.25654382532971",
         "23.905209818893166"
        ],
        [
         "std",
         "928.9328727385796",
         "7.265671862747363",
         "11.110390088734578",
         "16.970021587147304"
        ],
        [
         "min",
         "60.0",
         "0.5",
         "4.0",
         "3.25"
        ],
        [
         "25%",
         "548.0",
         "1.72",
         "11.0",
         "9.0"
        ],
        [
         "50%",
         "1081.0",
         "5.92",
         "17.6",
         "18.75"
        ],
        [
         "75%",
         "1888.0",
         "14.5",
         "27.5",
         "38.75"
        ],
        [
         "max",
         "7140.0",
         "68.12",
         "64.8",
         "159.25"
        ]
       ],
       "shape": {
        "columns": 4,
        "rows": 8
       }
      },
      "text/html": [
       "<div>\n",
       "<style scoped>\n",
       "    .dataframe tbody tr th:only-of-type {\n",
       "        vertical-align: middle;\n",
       "    }\n",
       "\n",
       "    .dataframe tbody tr th {\n",
       "        vertical-align: top;\n",
       "    }\n",
       "\n",
       "    .dataframe thead th {\n",
       "        text-align: right;\n",
       "    }\n",
       "</style>\n",
       "<table border=\"1\" class=\"dataframe\">\n",
       "  <thead>\n",
       "    <tr style=\"text-align: right;\">\n",
       "      <th></th>\n",
       "      <th>TRIP_SECONDS</th>\n",
       "      <th>TRIP_MILES</th>\n",
       "      <th>TRIP_SPEED</th>\n",
       "      <th>FARE</th>\n",
       "    </tr>\n",
       "  </thead>\n",
       "  <tbody>\n",
       "    <tr>\n",
       "      <th>count</th>\n",
       "      <td>31694.000000</td>\n",
       "      <td>31694.000000</td>\n",
       "      <td>31694.000000</td>\n",
       "      <td>31694.000000</td>\n",
       "    </tr>\n",
       "    <tr>\n",
       "      <th>mean</th>\n",
       "      <td>1319.796397</td>\n",
       "      <td>8.289463</td>\n",
       "      <td>20.256544</td>\n",
       "      <td>23.905210</td>\n",
       "    </tr>\n",
       "    <tr>\n",
       "      <th>std</th>\n",
       "      <td>928.932873</td>\n",
       "      <td>7.265672</td>\n",
       "      <td>11.110390</td>\n",
       "      <td>16.970022</td>\n",
       "    </tr>\n",
       "    <tr>\n",
       "      <th>min</th>\n",
       "      <td>60.000000</td>\n",
       "      <td>0.500000</td>\n",
       "      <td>4.000000</td>\n",
       "      <td>3.250000</td>\n",
       "    </tr>\n",
       "    <tr>\n",
       "      <th>25%</th>\n",
       "      <td>548.000000</td>\n",
       "      <td>1.720000</td>\n",
       "      <td>11.000000</td>\n",
       "      <td>9.000000</td>\n",
       "    </tr>\n",
       "    <tr>\n",
       "      <th>50%</th>\n",
       "      <td>1081.000000</td>\n",
       "      <td>5.920000</td>\n",
       "      <td>17.600000</td>\n",
       "      <td>18.750000</td>\n",
       "    </tr>\n",
       "    <tr>\n",
       "      <th>75%</th>\n",
       "      <td>1888.000000</td>\n",
       "      <td>14.500000</td>\n",
       "      <td>27.500000</td>\n",
       "      <td>38.750000</td>\n",
       "    </tr>\n",
       "    <tr>\n",
       "      <th>max</th>\n",
       "      <td>7140.000000</td>\n",
       "      <td>68.120000</td>\n",
       "      <td>64.800000</td>\n",
       "      <td>159.250000</td>\n",
       "    </tr>\n",
       "  </tbody>\n",
       "</table>\n",
       "</div>"
      ],
      "text/plain": [
       "       TRIP_SECONDS    TRIP_MILES    TRIP_SPEED          FARE\n",
       "count  31694.000000  31694.000000  31694.000000  31694.000000\n",
       "mean    1319.796397      8.289463     20.256544     23.905210\n",
       "std      928.932873      7.265672     11.110390     16.970022\n",
       "min       60.000000      0.500000      4.000000      3.250000\n",
       "25%      548.000000      1.720000     11.000000      9.000000\n",
       "50%     1081.000000      5.920000     17.600000     18.750000\n",
       "75%     1888.000000     14.500000     27.500000     38.750000\n",
       "max     7140.000000     68.120000     64.800000    159.250000"
      ]
     },
     "execution_count": 12,
     "metadata": {},
     "output_type": "execute_result"
    }
   ],
   "source": [
    "# checking dataset summary\n",
    "df_clean.describe()"
   ]
  },
  {
   "cell_type": "code",
   "execution_count": 13,
   "metadata": {},
   "outputs": [
    {
     "data": {
      "text/plain": [
       "0"
      ]
     },
     "execution_count": 13,
     "metadata": {},
     "output_type": "execute_result"
    }
   ],
   "source": [
    "# checking missing values\n",
    "df_clean.isnull().sum().sum()"
   ]
  },
  {
   "cell_type": "code",
   "execution_count": null,
   "metadata": {},
   "outputs": [],
   "source": []
  }
 ],
 "metadata": {
  "kernelspec": {
   "display_name": ".venv",
   "language": "python",
   "name": "python3"
  },
  "language_info": {
   "codemirror_mode": {
    "name": "ipython",
    "version": 3
   },
   "file_extension": ".py",
   "mimetype": "text/x-python",
   "name": "python",
   "nbconvert_exporter": "python",
   "pygments_lexer": "ipython3",
   "version": "3.8.10"
  }
 },
 "nbformat": 4,
 "nbformat_minor": 2
}
