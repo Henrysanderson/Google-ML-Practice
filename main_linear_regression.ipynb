{
 "cells": [
  {
   "cell_type": "markdown",
   "metadata": {},
   "source": [
    "## **Google ML Crash Course Linear Regression Practice**"
   ]
  },
  {
   "cell_type": "code",
   "execution_count": null,
   "metadata": {},
   "outputs": [],
   "source": [
    "# Importing the libraries\n",
    "import pandas as pd\n",
    "import matplotlib.pyplot as plt \n",
    "from sklearn.preprocessing import MinMaxScaler"
   ]
  },
  {
   "cell_type": "code",
   "execution_count": 10,
   "metadata": {},
   "outputs": [
    {
     "data": {
      "application/vnd.microsoft.datawrangler.viewer.v0+json": {
       "columns": [
        {
         "name": "index",
         "rawType": "int64",
         "type": "integer"
        },
        {
         "name": "TRIP_START_TIMESTAMP",
         "rawType": "object",
         "type": "string"
        },
        {
         "name": "TRIP_END_TIMESTAMP",
         "rawType": "object",
         "type": "string"
        },
        {
         "name": "TRIP_START_HOUR",
         "rawType": "float64",
         "type": "float"
        },
        {
         "name": "TRIP_SECONDS",
         "rawType": "int64",
         "type": "integer"
        },
        {
         "name": "TRIP_MILES",
         "rawType": "float64",
         "type": "float"
        },
        {
         "name": "TRIP_SPEED",
         "rawType": "float64",
         "type": "float"
        },
        {
         "name": "PICKUP_CENSUS_TRACT",
         "rawType": "float64",
         "type": "float"
        },
        {
         "name": "DROPOFF_CENSUS_TRACT",
         "rawType": "float64",
         "type": "float"
        },
        {
         "name": "PICKUP_COMMUNITY_AREA",
         "rawType": "float64",
         "type": "float"
        },
        {
         "name": "DROPOFF_COMMUNITY_AREA",
         "rawType": "float64",
         "type": "float"
        },
        {
         "name": "FARE",
         "rawType": "float64",
         "type": "float"
        },
        {
         "name": "TIPS",
         "rawType": "float64",
         "type": "float"
        },
        {
         "name": "TIP_RATE",
         "rawType": "float64",
         "type": "float"
        },
        {
         "name": "TOLLS",
         "rawType": "float64",
         "type": "float"
        },
        {
         "name": "EXTRAS",
         "rawType": "float64",
         "type": "float"
        },
        {
         "name": "TRIP_TOTAL",
         "rawType": "float64",
         "type": "float"
        },
        {
         "name": "PAYMENT_TYPE",
         "rawType": "object",
         "type": "string"
        },
        {
         "name": "COMPANY",
         "rawType": "object",
         "type": "string"
        }
       ],
       "conversionMethod": "pd.DataFrame",
       "ref": "c1657b99-478f-4e9f-9c66-b7f3ac25c9aa",
       "rows": [
        [
         "0",
         "05/17/2022 7:15:00 AM",
         "05/17/2022 7:45:00 AM",
         "7.25",
         "2341",
         "2.57",
         "4.0",
         null,
         null,
         null,
         "17.0",
         "31.99",
         "2.0",
         "6.3",
         "0.0",
         "0.0",
         "33.99",
         "Mobile",
         "Flash Cab"
        ],
        [
         "1",
         "05/17/2022 5:15:00 PM",
         "05/17/2022 5:30:00 PM",
         "17.25",
         "1074",
         "1.18",
         "4.0",
         null,
         "17031081202.0",
         null,
         "8.0",
         "9.75",
         "3.0",
         "27.9",
         "0.0",
         "1.0",
         "14.25",
         "Credit Card",
         "Flash Cab"
        ],
        [
         "2",
         "05/17/2022 5:15:00 PM",
         "05/17/2022 5:30:00 PM",
         "17.25",
         "1173",
         "1.29",
         "4.0",
         "17031320100.0",
         "17031081201.0",
         "32.0",
         "8.0",
         "10.25",
         "0.0",
         "0.0",
         "0.0",
         "0.0",
         "10.25",
         "Cash",
         "Sun Taxi"
        ],
        [
         "3",
         "05/17/2022 6:00:00 PM",
         "05/17/2022 7:00:00 PM",
         "18.0",
         "3360",
         "3.7",
         "4.0",
         "17031320100.0",
         "17031241400.0",
         "32.0",
         "24.0",
         "23.75",
         "0.0",
         "0.0",
         "0.0",
         "1.0",
         "24.75",
         "Cash",
         "Choice Taxi Association"
        ],
        [
         "4",
         "05/17/2022 5:00:00 PM",
         "05/17/2022 5:30:00 PM",
         "17.0",
         "1044",
         "1.15",
         "4.0",
         "17031320100.0",
         "17031081800.0",
         "32.0",
         "8.0",
         "10.0",
         "0.0",
         "0.0",
         "0.0",
         "0.0",
         "10.0",
         "Cash",
         "Flash Cab"
        ]
       ],
       "shape": {
        "columns": 18,
        "rows": 5
       }
      },
      "text/html": [
       "<div>\n",
       "<style scoped>\n",
       "    .dataframe tbody tr th:only-of-type {\n",
       "        vertical-align: middle;\n",
       "    }\n",
       "\n",
       "    .dataframe tbody tr th {\n",
       "        vertical-align: top;\n",
       "    }\n",
       "\n",
       "    .dataframe thead th {\n",
       "        text-align: right;\n",
       "    }\n",
       "</style>\n",
       "<table border=\"1\" class=\"dataframe\">\n",
       "  <thead>\n",
       "    <tr style=\"text-align: right;\">\n",
       "      <th></th>\n",
       "      <th>TRIP_START_TIMESTAMP</th>\n",
       "      <th>TRIP_END_TIMESTAMP</th>\n",
       "      <th>TRIP_START_HOUR</th>\n",
       "      <th>TRIP_SECONDS</th>\n",
       "      <th>TRIP_MILES</th>\n",
       "      <th>TRIP_SPEED</th>\n",
       "      <th>PICKUP_CENSUS_TRACT</th>\n",
       "      <th>DROPOFF_CENSUS_TRACT</th>\n",
       "      <th>PICKUP_COMMUNITY_AREA</th>\n",
       "      <th>DROPOFF_COMMUNITY_AREA</th>\n",
       "      <th>FARE</th>\n",
       "      <th>TIPS</th>\n",
       "      <th>TIP_RATE</th>\n",
       "      <th>TOLLS</th>\n",
       "      <th>EXTRAS</th>\n",
       "      <th>TRIP_TOTAL</th>\n",
       "      <th>PAYMENT_TYPE</th>\n",
       "      <th>COMPANY</th>\n",
       "    </tr>\n",
       "  </thead>\n",
       "  <tbody>\n",
       "    <tr>\n",
       "      <th>0</th>\n",
       "      <td>05/17/2022 7:15:00 AM</td>\n",
       "      <td>05/17/2022 7:45:00 AM</td>\n",
       "      <td>7.25</td>\n",
       "      <td>2341</td>\n",
       "      <td>2.57</td>\n",
       "      <td>4.0</td>\n",
       "      <td>NaN</td>\n",
       "      <td>NaN</td>\n",
       "      <td>NaN</td>\n",
       "      <td>17.0</td>\n",
       "      <td>31.99</td>\n",
       "      <td>2.0</td>\n",
       "      <td>6.3</td>\n",
       "      <td>0.0</td>\n",
       "      <td>0.0</td>\n",
       "      <td>33.99</td>\n",
       "      <td>Mobile</td>\n",
       "      <td>Flash Cab</td>\n",
       "    </tr>\n",
       "    <tr>\n",
       "      <th>1</th>\n",
       "      <td>05/17/2022 5:15:00 PM</td>\n",
       "      <td>05/17/2022 5:30:00 PM</td>\n",
       "      <td>17.25</td>\n",
       "      <td>1074</td>\n",
       "      <td>1.18</td>\n",
       "      <td>4.0</td>\n",
       "      <td>NaN</td>\n",
       "      <td>1.703108e+10</td>\n",
       "      <td>NaN</td>\n",
       "      <td>8.0</td>\n",
       "      <td>9.75</td>\n",
       "      <td>3.0</td>\n",
       "      <td>27.9</td>\n",
       "      <td>0.0</td>\n",
       "      <td>1.0</td>\n",
       "      <td>14.25</td>\n",
       "      <td>Credit Card</td>\n",
       "      <td>Flash Cab</td>\n",
       "    </tr>\n",
       "    <tr>\n",
       "      <th>2</th>\n",
       "      <td>05/17/2022 5:15:00 PM</td>\n",
       "      <td>05/17/2022 5:30:00 PM</td>\n",
       "      <td>17.25</td>\n",
       "      <td>1173</td>\n",
       "      <td>1.29</td>\n",
       "      <td>4.0</td>\n",
       "      <td>1.703132e+10</td>\n",
       "      <td>1.703108e+10</td>\n",
       "      <td>32.0</td>\n",
       "      <td>8.0</td>\n",
       "      <td>10.25</td>\n",
       "      <td>0.0</td>\n",
       "      <td>0.0</td>\n",
       "      <td>0.0</td>\n",
       "      <td>0.0</td>\n",
       "      <td>10.25</td>\n",
       "      <td>Cash</td>\n",
       "      <td>Sun Taxi</td>\n",
       "    </tr>\n",
       "    <tr>\n",
       "      <th>3</th>\n",
       "      <td>05/17/2022 6:00:00 PM</td>\n",
       "      <td>05/17/2022 7:00:00 PM</td>\n",
       "      <td>18.00</td>\n",
       "      <td>3360</td>\n",
       "      <td>3.70</td>\n",
       "      <td>4.0</td>\n",
       "      <td>1.703132e+10</td>\n",
       "      <td>1.703124e+10</td>\n",
       "      <td>32.0</td>\n",
       "      <td>24.0</td>\n",
       "      <td>23.75</td>\n",
       "      <td>0.0</td>\n",
       "      <td>0.0</td>\n",
       "      <td>0.0</td>\n",
       "      <td>1.0</td>\n",
       "      <td>24.75</td>\n",
       "      <td>Cash</td>\n",
       "      <td>Choice Taxi Association</td>\n",
       "    </tr>\n",
       "    <tr>\n",
       "      <th>4</th>\n",
       "      <td>05/17/2022 5:00:00 PM</td>\n",
       "      <td>05/17/2022 5:30:00 PM</td>\n",
       "      <td>17.00</td>\n",
       "      <td>1044</td>\n",
       "      <td>1.15</td>\n",
       "      <td>4.0</td>\n",
       "      <td>1.703132e+10</td>\n",
       "      <td>1.703108e+10</td>\n",
       "      <td>32.0</td>\n",
       "      <td>8.0</td>\n",
       "      <td>10.00</td>\n",
       "      <td>0.0</td>\n",
       "      <td>0.0</td>\n",
       "      <td>0.0</td>\n",
       "      <td>0.0</td>\n",
       "      <td>10.00</td>\n",
       "      <td>Cash</td>\n",
       "      <td>Flash Cab</td>\n",
       "    </tr>\n",
       "  </tbody>\n",
       "</table>\n",
       "</div>"
      ],
      "text/plain": [
       "    TRIP_START_TIMESTAMP     TRIP_END_TIMESTAMP  TRIP_START_HOUR  \\\n",
       "0  05/17/2022 7:15:00 AM  05/17/2022 7:45:00 AM             7.25   \n",
       "1  05/17/2022 5:15:00 PM  05/17/2022 5:30:00 PM            17.25   \n",
       "2  05/17/2022 5:15:00 PM  05/17/2022 5:30:00 PM            17.25   \n",
       "3  05/17/2022 6:00:00 PM  05/17/2022 7:00:00 PM            18.00   \n",
       "4  05/17/2022 5:00:00 PM  05/17/2022 5:30:00 PM            17.00   \n",
       "\n",
       "   TRIP_SECONDS  TRIP_MILES  TRIP_SPEED  PICKUP_CENSUS_TRACT  \\\n",
       "0          2341        2.57         4.0                  NaN   \n",
       "1          1074        1.18         4.0                  NaN   \n",
       "2          1173        1.29         4.0         1.703132e+10   \n",
       "3          3360        3.70         4.0         1.703132e+10   \n",
       "4          1044        1.15         4.0         1.703132e+10   \n",
       "\n",
       "   DROPOFF_CENSUS_TRACT  PICKUP_COMMUNITY_AREA  DROPOFF_COMMUNITY_AREA   FARE  \\\n",
       "0                   NaN                    NaN                    17.0  31.99   \n",
       "1          1.703108e+10                    NaN                     8.0   9.75   \n",
       "2          1.703108e+10                   32.0                     8.0  10.25   \n",
       "3          1.703124e+10                   32.0                    24.0  23.75   \n",
       "4          1.703108e+10                   32.0                     8.0  10.00   \n",
       "\n",
       "   TIPS  TIP_RATE  TOLLS  EXTRAS  TRIP_TOTAL PAYMENT_TYPE  \\\n",
       "0   2.0       6.3    0.0     0.0       33.99       Mobile   \n",
       "1   3.0      27.9    0.0     1.0       14.25  Credit Card   \n",
       "2   0.0       0.0    0.0     0.0       10.25         Cash   \n",
       "3   0.0       0.0    0.0     1.0       24.75         Cash   \n",
       "4   0.0       0.0    0.0     0.0       10.00         Cash   \n",
       "\n",
       "                   COMPANY  \n",
       "0                Flash Cab  \n",
       "1                Flash Cab  \n",
       "2                 Sun Taxi  \n",
       "3  Choice Taxi Association  \n",
       "4                Flash Cab  "
      ]
     },
     "execution_count": 10,
     "metadata": {},
     "output_type": "execute_result"
    }
   ],
   "source": [
    "# Load the dataset\n",
    "df = pd.read_csv('D:/Desktop/Google ML Crash Course Practice/chicago_taxi_train.csv')\n",
    "df.head()"
   ]
  },
  {
   "cell_type": "markdown",
   "metadata": {},
   "source": [
    "### Data Preprocessing"
   ]
  },
  {
   "cell_type": "code",
   "execution_count": 11,
   "metadata": {},
   "outputs": [
    {
     "data": {
      "text/plain": [
       "Index(['TRIP_START_TIMESTAMP', 'TRIP_END_TIMESTAMP', 'TRIP_START_HOUR',\n",
       "       'TRIP_SECONDS', 'TRIP_MILES', 'TRIP_SPEED', 'PICKUP_CENSUS_TRACT',\n",
       "       'DROPOFF_CENSUS_TRACT', 'PICKUP_COMMUNITY_AREA',\n",
       "       'DROPOFF_COMMUNITY_AREA', 'FARE', 'TIPS', 'TIP_RATE', 'TOLLS', 'EXTRAS',\n",
       "       'TRIP_TOTAL', 'PAYMENT_TYPE', 'COMPANY'],\n",
       "      dtype='object')"
      ]
     },
     "execution_count": 11,
     "metadata": {},
     "output_type": "execute_result"
    }
   ],
   "source": [
    "df.columns"
   ]
  },
  {
   "cell_type": "code",
   "execution_count": 12,
   "metadata": {},
   "outputs": [
    {
     "data": {
      "text/plain": [
       "trip_start_timestamp      0\n",
       "trip_end_timestamp        0\n",
       "trip_start_hour           0\n",
       "trip_seconds              0\n",
       "trip_miles                0\n",
       "trip_speed                0\n",
       "pickup_census_tract       0\n",
       "dropoff_census_tract      0\n",
       "pickup_community_area     0\n",
       "dropoff_community_area    0\n",
       "fare                      0\n",
       "tips                      0\n",
       "tip_rate                  0\n",
       "tolls                     0\n",
       "extras                    0\n",
       "trip_total                0\n",
       "payment_type              0\n",
       "company                   0\n",
       "dtype: int64"
      ]
     },
     "execution_count": 12,
     "metadata": {},
     "output_type": "execute_result"
    }
   ],
   "source": [
    "# Cleaninig the data\n",
    "df = df.dropna()\n",
    "df = df.drop_duplicates()\n",
    "df.columns = df.columns.str.lower()\n",
    "df = df[df.fare > 0]\n",
    "df = df[df.trip_seconds > 0]\n",
    "df.isnull().sum()"
   ]
  },
  {
   "cell_type": "code",
   "execution_count": 13,
   "metadata": {},
   "outputs": [
    {
     "data": {
      "application/vnd.microsoft.datawrangler.viewer.v0+json": {
       "columns": [
        {
         "name": "index",
         "rawType": "int64",
         "type": "integer"
        },
        {
         "name": "trip_miles",
         "rawType": "float64",
         "type": "float"
        },
        {
         "name": "fare",
         "rawType": "float64",
         "type": "float"
        }
       ],
       "conversionMethod": "pd.DataFrame",
       "ref": "1c4b3f5d-4513-48db-9a89-461ed3327554",
       "rows": [
        [
         "2",
         "1.29",
         "10.25"
        ],
        [
         "3",
         "3.7",
         "23.75"
        ],
        [
         "4",
         "1.15",
         "10.0"
        ],
        [
         "5",
         "1.38",
         "11.0"
        ],
        [
         "6",
         "2.0",
         "14.5"
        ]
       ],
       "shape": {
        "columns": 2,
        "rows": 5
       }
      },
      "text/html": [
       "<div>\n",
       "<style scoped>\n",
       "    .dataframe tbody tr th:only-of-type {\n",
       "        vertical-align: middle;\n",
       "    }\n",
       "\n",
       "    .dataframe tbody tr th {\n",
       "        vertical-align: top;\n",
       "    }\n",
       "\n",
       "    .dataframe thead th {\n",
       "        text-align: right;\n",
       "    }\n",
       "</style>\n",
       "<table border=\"1\" class=\"dataframe\">\n",
       "  <thead>\n",
       "    <tr style=\"text-align: right;\">\n",
       "      <th></th>\n",
       "      <th>trip_miles</th>\n",
       "      <th>fare</th>\n",
       "    </tr>\n",
       "  </thead>\n",
       "  <tbody>\n",
       "    <tr>\n",
       "      <th>2</th>\n",
       "      <td>1.29</td>\n",
       "      <td>10.25</td>\n",
       "    </tr>\n",
       "    <tr>\n",
       "      <th>3</th>\n",
       "      <td>3.70</td>\n",
       "      <td>23.75</td>\n",
       "    </tr>\n",
       "    <tr>\n",
       "      <th>4</th>\n",
       "      <td>1.15</td>\n",
       "      <td>10.00</td>\n",
       "    </tr>\n",
       "    <tr>\n",
       "      <th>5</th>\n",
       "      <td>1.38</td>\n",
       "      <td>11.00</td>\n",
       "    </tr>\n",
       "    <tr>\n",
       "      <th>6</th>\n",
       "      <td>2.00</td>\n",
       "      <td>14.50</td>\n",
       "    </tr>\n",
       "  </tbody>\n",
       "</table>\n",
       "</div>"
      ],
      "text/plain": [
       "   trip_miles   fare\n",
       "2        1.29  10.25\n",
       "3        3.70  23.75\n",
       "4        1.15  10.00\n",
       "5        1.38  11.00\n",
       "6        2.00  14.50"
      ]
     },
     "execution_count": 13,
     "metadata": {},
     "output_type": "execute_result"
    }
   ],
   "source": [
    "# Dropping unwanted features to only remain with the features that are important for now\n",
    "df = df[['trip_miles', 'fare']]\n",
    "df.head()"
   ]
  },
  {
   "cell_type": "code",
   "execution_count": 14,
   "metadata": {},
   "outputs": [],
   "source": [
    "features = [\"trip_miles\"]  # Independent variable (X)\n",
    "target = \"fare\"  # Dependent variable (y)\n",
    "scaler = MinMaxScaler()\n",
    "df[features] = scaler.fit_transform(df[features])\n"
   ]
  },
  {
   "cell_type": "markdown",
   "metadata": {},
   "source": [
    "### Linear Regression model with Keras"
   ]
  },
  {
   "cell_type": "code",
   "execution_count": null,
   "metadata": {},
   "outputs": [],
   "source": [
    "# import the libraries\n",
    "import tensorflow as tf\n",
    "from tensorflow import keras\n",
    "from tensorflow.keras import layers\n",
    "import numpy as np\n"
   ]
  }
 ],
 "metadata": {
  "kernelspec": {
   "display_name": ".venv",
   "language": "python",
   "name": "python3"
  },
  "language_info": {
   "codemirror_mode": {
    "name": "ipython",
    "version": 3
   },
   "file_extension": ".py",
   "mimetype": "text/x-python",
   "name": "python",
   "nbconvert_exporter": "python",
   "pygments_lexer": "ipython3",
   "version": "3.12.5"
  }
 },
 "nbformat": 4,
 "nbformat_minor": 2
}
